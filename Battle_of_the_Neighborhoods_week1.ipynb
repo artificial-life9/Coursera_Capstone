{
 "nbformat": 4,
 "nbformat_minor": 2,
 "metadata": {
  "language_info": {
   "name": "python",
   "codemirror_mode": {
    "name": "ipython",
    "version": 3
   }
  },
  "orig_nbformat": 2,
  "file_extension": ".py",
  "mimetype": "text/x-python",
  "name": "python",
  "npconvert_exporter": "python",
  "pygments_lexer": "ipython3",
  "version": 3
 },
 "cells": [
  {
   "cell_type": "markdown",
   "execution_count": null,
   "metadata": {},
   "outputs": [],
   "source": [
    "# Introduction\n",
    "\n",
    "    Baseball is one of America's most popular sports.  Major League Baseball is the league with the best players from around the world.  MLB is watched by millions all over the world.  There are 30 MLB teams that play 162 games in a season.  "
   ]
  },
  {
   "cell_type": "markdown",
   "execution_count": null,
   "metadata": {},
   "outputs": [],
   "source": [
    "# Data\n",
    "\n",
    "Data is from http://www.seanlahman.com/baseball-archive/statistics/ \n",
    "It contains statistics from 1871-2019.  The team stats is what we're interested in.  \n",
    "It contains \n"
   ]
  },
  {
   "cell_type": "code",
   "execution_count": null,
   "metadata": {},
   "outputs": [],
   "source": []
  }
 ]
}