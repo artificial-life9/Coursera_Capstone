{
 "nbformat": 4,
 "nbformat_minor": 2,
 "metadata": {
  "language_info": {
   "name": "python",
   "codemirror_mode": {
    "name": "ipython",
    "version": 3
   }
  },
  "orig_nbformat": 2,
  "file_extension": ".py",
  "mimetype": "text/x-python",
  "name": "python",
  "npconvert_exporter": "python",
  "pygments_lexer": "ipython3",
  "version": 3
 },
 "cells": [
  {
   "cell_type": "markdown",
   "execution_count": null,
   "metadata": {},
   "outputs": [],
   "source": [
    "# Introduction\n",
    "\n",
    "    Baseball is one of America's most popular sport.  Major League Baseball is the league with the best players from around the world.  MLB is watched by millions all over the world.  There are 30 MLB teams that play 162 games in a season.  Popular teams can attract millions of fans that attend their home games each season.  It can be helpful to understand what makes fans attend games in person. Is it a team's geographic location, a winning team, or perhaps people just like to see a lot of home runs.  I will explore a team's statistics to see what effects if any it will have on attendance.  Having a successful winning MLB team can be very expensive, but it might not lead to increase in attendance.  From a business perspective, it is good to know how much of a team's performance can affect attendance.  "
   ]
  },
  {
   "cell_type": "markdown",
   "execution_count": null,
   "metadata": {},
   "outputs": [],
   "source": [
    "# Data\n",
    "\n",
    "Data is from http://www.seanlahman.com/baseball-archive/statistics/ \n",
    "It contains statistics from 1871-2019.  The team stats is what we're interested in.  It contains \n"
   ]
  },
  {
   "cell_type": "code",
   "execution_count": null,
   "metadata": {},
   "outputs": [],
   "source": []
  }
 ]
}